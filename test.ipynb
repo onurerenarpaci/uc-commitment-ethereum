{
 "cells": [
  {
   "cell_type": "code",
   "execution_count": 1,
   "metadata": {},
   "outputs": [],
   "source": [
    "import cramer_shoup as cs\n",
    "from web3 import Web3\n",
    "from solcx import compile_files\n",
    "from py_ecc import bn128\n",
    "import secrets"
   ]
  },
  {
   "cell_type": "code",
   "execution_count": 13,
   "metadata": {},
   "outputs": [
    {
     "data": {
      "text/plain": [
       "(15754522824298298678984299068687499050270661613918382033006769500817477230367,\n",
       " 17009251104546859774124359615545239626005643362554707521151395815650216148847)"
      ]
     },
     "execution_count": 13,
     "metadata": {},
     "output_type": "execute_result"
    }
   ],
   "source": [
    "private_key, public_key = cs.generate_keypair()\n",
    "message = cs.get_random_generator() # TODO create a mapping between the message and the curve\n",
    "message"
   ]
  },
  {
   "cell_type": "code",
   "execution_count": 19,
   "metadata": {},
   "outputs": [
    {
     "data": {
      "text/plain": [
       "((7871307926219681742487650246470518659441072948152725651824610276909180789788,\n",
       "  9476438050457643673799321977840582521930143872021008928068318312342161208614),\n",
       " (5253350212122926731145278693632563171991061264376397068520408919911828018614,\n",
       "  14837305404918556641708472945347301957784539799811047484444329220267761239472),\n",
       " (15401757562686764749818126492976018073145854999039664850292627653501494626819,\n",
       "  5856512345977014747143158677378472758348160848472688865538423528949603261885),\n",
       " (3907119855844795814535011561213244514277085447620037117548260804903678815501,\n",
       "  14688904973713871556760779308848336367744387485761805180249590165278996412073),\n",
       " 1254312500573931302050004706462938473998528966027706767374135875781676719502)"
      ]
     },
     "execution_count": 19,
     "metadata": {},
     "output_type": "execute_result"
    }
   ],
   "source": [
    "chiper_text = cs.encrypt(public_key, message)\n",
    "chiper_text"
   ]
  },
  {
   "cell_type": "code",
   "execution_count": 29,
   "metadata": {},
   "outputs": [
    {
     "name": "stderr",
     "output_type": "stream",
     "text": [
      "Traceback (most recent call last):\n",
      "  File \"/opt/homebrew/bin/solc\", line 8, in <module>\n",
      "    sys.exit(solc())\n",
      "  File \"/opt/homebrew/lib/python3.10/site-packages/solc_select/__main__.py\", line 80, in solc\n",
      "    res = current_version()\n",
      "  File \"/opt/homebrew/lib/python3.10/site-packages/solc_select/solc_select.py\", line 60, in current_version\n",
      "    raise argparse.ArgumentTypeError(\n",
      "argparse.ArgumentTypeError: No solc version set. Run `solc-select use VERSION` or set SOLC_VERSION environment variable.\n"
     ]
    },
    {
     "ename": "CalledProcessError",
     "evalue": "Command '['/opt/homebrew/bin/solc', '--version']' returned non-zero exit status 1.",
     "output_type": "error",
     "traceback": [
      "\u001b[0;31m---------------------------------------------------------------------------\u001b[0m",
      "\u001b[0;31mCalledProcessError\u001b[0m                        Traceback (most recent call last)",
      "\u001b[1;32m/Users/onurerenarpaci/Desktop/KUSRP/cramer_shoup/test.ipynb Cell 4\u001b[0m in \u001b[0;36m<cell line: 2>\u001b[0;34m()\u001b[0m\n\u001b[1;32m      <a href='vscode-notebook-cell:/Users/onurerenarpaci/Desktop/KUSRP/cramer_shoup/test.ipynb#W3sZmlsZQ%3D%3D?line=0'>1</a>\u001b[0m w3 \u001b[39m=\u001b[39m Web3(Web3\u001b[39m.\u001b[39mHTTPProvider(\u001b[39m\"\u001b[39m\u001b[39mhttp://localhost:8545\u001b[39m\u001b[39m\"\u001b[39m))\n\u001b[0;32m----> <a href='vscode-notebook-cell:/Users/onurerenarpaci/Desktop/KUSRP/cramer_shoup/test.ipynb#W3sZmlsZQ%3D%3D?line=1'>2</a>\u001b[0m compiled_sol \u001b[39m=\u001b[39m compile_files([\u001b[39m\"\u001b[39;49m\u001b[39mcramer_shoup.sol\u001b[39;49m\u001b[39m\"\u001b[39;49m], output_values\u001b[39m=\u001b[39;49m[\u001b[39m'\u001b[39;49m\u001b[39mabi\u001b[39;49m\u001b[39m'\u001b[39;49m, \u001b[39m'\u001b[39;49m\u001b[39mbin\u001b[39;49m\u001b[39m'\u001b[39;49m])[\u001b[39m'\u001b[39m\u001b[39mcramer_shoup.sol:CramerShoup\u001b[39m\u001b[39m'\u001b[39m]\n\u001b[1;32m      <a href='vscode-notebook-cell:/Users/onurerenarpaci/Desktop/KUSRP/cramer_shoup/test.ipynb#W3sZmlsZQ%3D%3D?line=2'>3</a>\u001b[0m CramerShoup \u001b[39m=\u001b[39m w3\u001b[39m.\u001b[39meth\u001b[39m.\u001b[39mcontract(address\u001b[39m=\u001b[39m\u001b[39m'\u001b[39m\u001b[39m0xD7ACd2a9FD159E69Bb102A1ca21C9a3e3A5F771B\u001b[39m\u001b[39m'\u001b[39m, abi\u001b[39m=\u001b[39mcompiled_sol[\u001b[39m'\u001b[39m\u001b[39mabi\u001b[39m\u001b[39m'\u001b[39m])\n",
      "File \u001b[0;32m~/.local/share/virtualenvs/delegate-LWMUJY8D/lib/python3.9/site-packages/solcx/main.py:216\u001b[0m, in \u001b[0;36mcompile_files\u001b[0;34m(source_files, output_values, import_remappings, base_path, allow_paths, output_dir, overwrite, evm_version, revert_strings, metadata_hash, metadata_literal, optimize, optimize_runs, optimize_yul, no_optimize_yul, yul_optimizations, solc_binary, solc_version, allow_empty)\u001b[0m\n\u001b[1;32m    134\u001b[0m \u001b[39mdef\u001b[39;00m \u001b[39mcompile_files\u001b[39m(\n\u001b[1;32m    135\u001b[0m     source_files: Union[List, Path, \u001b[39mstr\u001b[39m],\n\u001b[1;32m    136\u001b[0m     output_values: List \u001b[39m=\u001b[39m \u001b[39mNone\u001b[39;00m,\n\u001b[0;32m   (...)\u001b[0m\n\u001b[1;32m    153\u001b[0m     allow_empty: \u001b[39mbool\u001b[39m \u001b[39m=\u001b[39m \u001b[39mFalse\u001b[39;00m,\n\u001b[1;32m    154\u001b[0m ) \u001b[39m-\u001b[39m\u001b[39m>\u001b[39m Dict:\n\u001b[1;32m    155\u001b[0m     \u001b[39m\"\"\"\u001b[39;00m\n\u001b[1;32m    156\u001b[0m \u001b[39m    Compile one or more Solidity source files.\u001b[39;00m\n\u001b[1;32m    157\u001b[0m \n\u001b[0;32m   (...)\u001b[0m\n\u001b[1;32m    214\u001b[0m \u001b[39m        Compiler output\u001b[39;00m\n\u001b[1;32m    215\u001b[0m \u001b[39m    \"\"\"\u001b[39;00m\n\u001b[0;32m--> 216\u001b[0m     \u001b[39mreturn\u001b[39;00m _compile_combined_json(\n\u001b[1;32m    217\u001b[0m         solc_binary\u001b[39m=\u001b[39;49msolc_binary,\n\u001b[1;32m    218\u001b[0m         solc_version\u001b[39m=\u001b[39;49msolc_version,\n\u001b[1;32m    219\u001b[0m         source_files\u001b[39m=\u001b[39;49msource_files,\n\u001b[1;32m    220\u001b[0m         output_values\u001b[39m=\u001b[39;49moutput_values,\n\u001b[1;32m    221\u001b[0m         import_remappings\u001b[39m=\u001b[39;49mimport_remappings,\n\u001b[1;32m    222\u001b[0m         base_path\u001b[39m=\u001b[39;49mbase_path,\n\u001b[1;32m    223\u001b[0m         allow_paths\u001b[39m=\u001b[39;49mallow_paths,\n\u001b[1;32m    224\u001b[0m         output_dir\u001b[39m=\u001b[39;49moutput_dir,\n\u001b[1;32m    225\u001b[0m         overwrite\u001b[39m=\u001b[39;49moverwrite,\n\u001b[1;32m    226\u001b[0m         evm_version\u001b[39m=\u001b[39;49mevm_version,\n\u001b[1;32m    227\u001b[0m         revert_strings\u001b[39m=\u001b[39;49mrevert_strings,\n\u001b[1;32m    228\u001b[0m         metadata_hash\u001b[39m=\u001b[39;49mmetadata_hash,\n\u001b[1;32m    229\u001b[0m         metadata_literal\u001b[39m=\u001b[39;49mmetadata_literal,\n\u001b[1;32m    230\u001b[0m         optimize\u001b[39m=\u001b[39;49moptimize,\n\u001b[1;32m    231\u001b[0m         optimize_runs\u001b[39m=\u001b[39;49moptimize_runs,\n\u001b[1;32m    232\u001b[0m         no_optimize_yul\u001b[39m=\u001b[39;49mno_optimize_yul,\n\u001b[1;32m    233\u001b[0m         yul_optimizations\u001b[39m=\u001b[39;49myul_optimizations,\n\u001b[1;32m    234\u001b[0m         allow_empty\u001b[39m=\u001b[39;49mallow_empty,\n\u001b[1;32m    235\u001b[0m     )\n",
      "File \u001b[0;32m~/.local/share/virtualenvs/delegate-LWMUJY8D/lib/python3.9/site-packages/solcx/main.py:291\u001b[0m, in \u001b[0;36m_compile_combined_json\u001b[0;34m(output_values, solc_binary, solc_version, output_dir, overwrite, allow_empty, **kwargs)\u001b[0m\n\u001b[1;32m    286\u001b[0m         target_path \u001b[39m=\u001b[39m output_dir\u001b[39m.\u001b[39mjoinpath(\u001b[39m\"\u001b[39m\u001b[39mcombined.json\u001b[39m\u001b[39m\"\u001b[39m)\n\u001b[1;32m    287\u001b[0m         \u001b[39mraise\u001b[39;00m \u001b[39mFileExistsError\u001b[39;00m(\n\u001b[1;32m    288\u001b[0m             \u001b[39mf\u001b[39m\u001b[39m\"\u001b[39m\u001b[39mTarget output file \u001b[39m\u001b[39m{\u001b[39;00mtarget_path\u001b[39m}\u001b[39;00m\u001b[39m already exists - use overwrite=True to overwrite\u001b[39m\u001b[39m\"\u001b[39m\n\u001b[1;32m    289\u001b[0m         )\n\u001b[0;32m--> 291\u001b[0m stdoutdata, stderrdata, command, proc \u001b[39m=\u001b[39m wrapper\u001b[39m.\u001b[39;49msolc_wrapper(\n\u001b[1;32m    292\u001b[0m     solc_binary\u001b[39m=\u001b[39;49msolc_binary,\n\u001b[1;32m    293\u001b[0m     combined_json\u001b[39m=\u001b[39;49mcombined_json,\n\u001b[1;32m    294\u001b[0m     output_dir\u001b[39m=\u001b[39;49moutput_dir,\n\u001b[1;32m    295\u001b[0m     overwrite\u001b[39m=\u001b[39;49moverwrite,\n\u001b[1;32m    296\u001b[0m     \u001b[39m*\u001b[39;49m\u001b[39m*\u001b[39;49mkwargs,\n\u001b[1;32m    297\u001b[0m )\n\u001b[1;32m    299\u001b[0m \u001b[39mif\u001b[39;00m output_dir:\n\u001b[1;32m    300\u001b[0m     output_path \u001b[39m=\u001b[39m Path(output_dir)\u001b[39m.\u001b[39mjoinpath(\u001b[39m\"\u001b[39m\u001b[39mcombined.json\u001b[39m\u001b[39m\"\u001b[39m)\n",
      "File \u001b[0;32m~/.local/share/virtualenvs/delegate-LWMUJY8D/lib/python3.9/site-packages/solcx/wrapper.py:98\u001b[0m, in \u001b[0;36msolc_wrapper\u001b[0;34m(solc_binary, stdin, source_files, import_remappings, success_return_code, **kwargs)\u001b[0m\n\u001b[1;32m     95\u001b[0m \u001b[39melse\u001b[39;00m:\n\u001b[1;32m     96\u001b[0m     solc_binary \u001b[39m=\u001b[39m install\u001b[39m.\u001b[39mget_executable()\n\u001b[0;32m---> 98\u001b[0m solc_version \u001b[39m=\u001b[39m _get_solc_version(solc_binary)\n\u001b[1;32m     99\u001b[0m command: List \u001b[39m=\u001b[39m [\u001b[39mstr\u001b[39m(solc_binary)]\n\u001b[1;32m    101\u001b[0m \u001b[39mif\u001b[39;00m success_return_code \u001b[39mis\u001b[39;00m \u001b[39mNone\u001b[39;00m:\n",
      "File \u001b[0;32m~/.local/share/virtualenvs/delegate-LWMUJY8D/lib/python3.9/site-packages/solcx/wrapper.py:17\u001b[0m, in \u001b[0;36m_get_solc_version\u001b[0;34m(solc_binary, with_commit_hash)\u001b[0m\n\u001b[1;32m     15\u001b[0m \u001b[39mdef\u001b[39;00m \u001b[39m_get_solc_version\u001b[39m(solc_binary: Union[Path, \u001b[39mstr\u001b[39m], with_commit_hash: \u001b[39mbool\u001b[39m \u001b[39m=\u001b[39m \u001b[39mFalse\u001b[39;00m) \u001b[39m-\u001b[39m\u001b[39m>\u001b[39m Version:\n\u001b[1;32m     16\u001b[0m     \u001b[39m# private wrapper function to get `solc` version\u001b[39;00m\n\u001b[0;32m---> 17\u001b[0m     stdout_data \u001b[39m=\u001b[39m subprocess\u001b[39m.\u001b[39;49mcheck_output([\u001b[39mstr\u001b[39;49m(solc_binary), \u001b[39m\"\u001b[39;49m\u001b[39m--version\u001b[39;49m\u001b[39m\"\u001b[39;49m], encoding\u001b[39m=\u001b[39;49m\u001b[39m\"\u001b[39;49m\u001b[39mutf8\u001b[39;49m\u001b[39m\"\u001b[39;49m)\n\u001b[1;32m     18\u001b[0m     \u001b[39mtry\u001b[39;00m:\n\u001b[1;32m     19\u001b[0m         match \u001b[39m=\u001b[39m \u001b[39mnext\u001b[39m(re\u001b[39m.\u001b[39mfinditer(VERSION_REGEX, stdout_data))\n",
      "File \u001b[0;32m/opt/homebrew/Cellar/python@3.9/3.9.15/Frameworks/Python.framework/Versions/3.9/lib/python3.9/subprocess.py:424\u001b[0m, in \u001b[0;36mcheck_output\u001b[0;34m(timeout, *popenargs, **kwargs)\u001b[0m\n\u001b[1;32m    421\u001b[0m         empty \u001b[39m=\u001b[39m \u001b[39mb\u001b[39m\u001b[39m'\u001b[39m\u001b[39m'\u001b[39m\n\u001b[1;32m    422\u001b[0m     kwargs[\u001b[39m'\u001b[39m\u001b[39minput\u001b[39m\u001b[39m'\u001b[39m] \u001b[39m=\u001b[39m empty\n\u001b[0;32m--> 424\u001b[0m \u001b[39mreturn\u001b[39;00m run(\u001b[39m*\u001b[39;49mpopenargs, stdout\u001b[39m=\u001b[39;49mPIPE, timeout\u001b[39m=\u001b[39;49mtimeout, check\u001b[39m=\u001b[39;49m\u001b[39mTrue\u001b[39;49;00m,\n\u001b[1;32m    425\u001b[0m            \u001b[39m*\u001b[39;49m\u001b[39m*\u001b[39;49mkwargs)\u001b[39m.\u001b[39mstdout\n",
      "File \u001b[0;32m/opt/homebrew/Cellar/python@3.9/3.9.15/Frameworks/Python.framework/Versions/3.9/lib/python3.9/subprocess.py:528\u001b[0m, in \u001b[0;36mrun\u001b[0;34m(input, capture_output, timeout, check, *popenargs, **kwargs)\u001b[0m\n\u001b[1;32m    526\u001b[0m     retcode \u001b[39m=\u001b[39m process\u001b[39m.\u001b[39mpoll()\n\u001b[1;32m    527\u001b[0m     \u001b[39mif\u001b[39;00m check \u001b[39mand\u001b[39;00m retcode:\n\u001b[0;32m--> 528\u001b[0m         \u001b[39mraise\u001b[39;00m CalledProcessError(retcode, process\u001b[39m.\u001b[39margs,\n\u001b[1;32m    529\u001b[0m                                  output\u001b[39m=\u001b[39mstdout, stderr\u001b[39m=\u001b[39mstderr)\n\u001b[1;32m    530\u001b[0m \u001b[39mreturn\u001b[39;00m CompletedProcess(process\u001b[39m.\u001b[39margs, retcode, stdout, stderr)\n",
      "\u001b[0;31mCalledProcessError\u001b[0m: Command '['/opt/homebrew/bin/solc', '--version']' returned non-zero exit status 1."
     ]
    }
   ],
   "source": [
    "w3 = Web3(Web3.HTTPProvider(\"http://localhost:8545\"))\n",
    "compiled_sol = compile_files([\"cramer_shoup.sol\"], output_values=['abi', 'bin'])['cramer_shoup.sol:CramerShoup']\n",
    "CramerShoup = w3.eth.contract(address='0xD7ACd2a9FD159E69Bb102A1ca21C9a3e3A5F771B', abi=compiled_sol['abi'])"
   ]
  },
  {
   "cell_type": "code",
   "execution_count": 5,
   "metadata": {},
   "outputs": [],
   "source": [
    "tx_hash = CramerShoup.functions.setPublicKey(\n",
    "    _pk = {\n",
    "        \"g1\" : cs.point_to_bytes(public_key['g1']),\n",
    "        \"g2\" : cs.point_to_bytes(public_key['g2']),\n",
    "        \"c\" : cs.point_to_bytes(public_key['c']),\n",
    "        \"d\" : cs.point_to_bytes(public_key['d']),\n",
    "        \"h\" : cs.point_to_bytes(public_key['h'])\n",
    "        }).transact({'from': w3.eth.accounts[0]})\n",
    "\n",
    "tx_receipt = w3.eth.waitForTransactionReceipt(tx_hash)"
   ]
  },
  {
   "cell_type": "code",
   "execution_count": 6,
   "metadata": {},
   "outputs": [],
   "source": [
    "tx_hash = CramerShoup.functions.setChiperText(\n",
    "    _ct = {\n",
    "        \"u1\" : cs.point_to_bytes(chiper_text[0]),\n",
    "        \"u2\" : cs.point_to_bytes(chiper_text[1]),\n",
    "        \"e\" : cs.point_to_bytes(chiper_text[2]),\n",
    "        \"v\" : cs.point_to_bytes(chiper_text[3])\n",
    "        }).transact({'from': w3.eth.accounts[0]})\n",
    "\n",
    "tx_receipt = w3.eth.waitForTransactionReceipt(tx_hash)"
   ]
  },
  {
   "cell_type": "code",
   "execution_count": 7,
   "metadata": {},
   "outputs": [],
   "source": [
    "tx_hash = CramerShoup.functions.encrypt(\n",
    "    message = cs.point_to_bytes(message),\n",
    "    k = \"0x\" + chiper_text[-1].to_bytes(32, 'big').hex()\n",
    "    ).transact({'from': w3.eth.accounts[0]})\n",
    "tx_receipt = w3.eth.waitForTransactionReceipt(tx_hash)"
   ]
  },
  {
   "cell_type": "code",
   "execution_count": 8,
   "metadata": {},
   "outputs": [
    {
     "data": {
      "text/plain": [
       "(AttributeDict({'args': AttributeDict({'u1': [b'\\x1ag\\xcd\\xd8\\xb5Og\\xca\\xa2G\\x98\\xaf\\xc6q\\x18A\\xc8G\\xc9\\xcdd\\x00g>&%MR\\xd3\\xe5\\xe4\\x08',\n",
       "    b'%\\x1f2oxD%%\\x99)\\x9f\\x15\\x82T*\\xe3M\\xae\\xa9\\xd4\\x83\\xa1#\\xa4\\x812\\xc2\\xb0z\\t\\xe08'],\n",
       "   'u2': [b'\\x02\\x83\\x90\\xb8\\x9c\\xaa\\xab\\xd5+.\\xd2=\\x85k\\x81y\\xf7r\\xcabl)jk\\xcd\\x0e\\xed\\xf83{\\x17\\xb0',\n",
       "    b'\\x05m\\xa0\\xb1w\\x9d\\xbc\\x0bS\\xd3FEP\\x8c\\xf2\\xec\\x04\\xd5cX\\x8c\\xf7c-\\x99B2l\\xbdcW\\x8f'],\n",
       "   'e': [b'$o\\x14^\\xd8\\xe4f\\x1e{\\x0eA&\\x95zo\\xc4\\xa7\"\\x17\\xc3\\xff\\x8a\\x1f\\x19\\x96Qq\\x99\\xf4\\x0eG\\xc5',\n",
       "    b'\\x01=\\xc9\\xf2wS\\x93\\x96\\xfb\\x95\\xc6A\\xd0\\xb1,w\\xc7,20\\x91z\\xa5\\x14\\x8c\\x81\\xa0+\\xda|\\xda\\xa9'],\n",
       "   'v': [b'\\x15\\xb9Y \\x89\\x0b\\xa6\\xaa\\x0c\\xacTC\\x10\\x17u\\xca\\x8dl4\\xca\\xb3\\xde(F\\x88$G\\xdf\\xfc4r\\xab',\n",
       "    b'\\x1a\\x9f\\xa6\\x8e\\x01\\xde\\xe9\\xaafIc\\xfac\\x9f\\xa6\\x00\\x90\\x82\\xb5\\x83y\\x14\\xf9\\xec\\xd7hI\\x9cl5\\xbe,']}),\n",
       "  'event': 'ChiperTextMathced',\n",
       "  'logIndex': 0,\n",
       "  'transactionIndex': 0,\n",
       "  'transactionHash': HexBytes('0x7d86be1b27e6f13e76b72853a57f3c391a910e2ee7477477f54848331cf569a6'),\n",
       "  'address': '0xc2Ac234bA54852B1f8aC687B7908F5BBA590CB04',\n",
       "  'blockHash': HexBytes('0x98dbb970e6c262a688e82e37ed054f25ff761542d3d399d9b6cccc3694dcf0e4'),\n",
       "  'blockNumber': 4}),)"
      ]
     },
     "execution_count": 8,
     "metadata": {},
     "output_type": "execute_result"
    }
   ],
   "source": [
    "logs = CramerShoup.events.ChiperTextMathced().processReceipt(tx_receipt)\n",
    "logs"
   ]
  },
  {
   "cell_type": "code",
   "execution_count": 9,
   "metadata": {},
   "outputs": [
    {
     "name": "stdout",
     "output_type": "stream",
     "text": [
      "execution reverted: VM Exception while processing transaction: revert u1 not matched\n"
     ]
    }
   ],
   "source": [
    "try:\n",
    "    tx_hash = CramerShoup.functions.encrypt(\n",
    "        message = cs.point_to_bytes(message),\n",
    "        k = \"0x\" + secrets.randbelow(bn128.field_modulus).to_bytes(32, 'big').hex()\n",
    "        ).transact({'from': w3.eth.accounts[0]})\n",
    "    tx_receipt = w3.eth.waitForTransactionReceipt(tx_hash)\n",
    "except Exception as e:\n",
    "    print(e)"
   ]
  },
  {
   "cell_type": "code",
   "execution_count": 5,
   "metadata": {},
   "outputs": [
    {
     "data": {
      "text/plain": [
       "['FQ',\n",
       " 'FQ12',\n",
       " 'FQ2',\n",
       " 'FQP',\n",
       " 'G1',\n",
       " 'G12',\n",
       " 'G2',\n",
       " 'Z1',\n",
       " 'Z2',\n",
       " '__builtins__',\n",
       " '__cached__',\n",
       " '__doc__',\n",
       " '__file__',\n",
       " '__loader__',\n",
       " '__name__',\n",
       " '__package__',\n",
       " '__path__',\n",
       " '__spec__',\n",
       " 'absolute_import',\n",
       " 'add',\n",
       " 'b',\n",
       " 'b12',\n",
       " 'b2',\n",
       " 'bn128_curve',\n",
       " 'bn128_pairing',\n",
       " 'curve_order',\n",
       " 'double',\n",
       " 'eq',\n",
       " 'field_modulus',\n",
       " 'final_exponentiate',\n",
       " 'is_inf',\n",
       " 'is_on_curve',\n",
       " 'multiply',\n",
       " 'neg',\n",
       " 'pairing',\n",
       " 'twist']"
      ]
     },
     "execution_count": 5,
     "metadata": {},
     "output_type": "execute_result"
    }
   ],
   "source": [
    "dir(bn128)"
   ]
  },
  {
   "cell_type": "code",
   "execution_count": 7,
   "metadata": {},
   "outputs": [
    {
     "data": {
      "text/plain": [
       "3"
      ]
     },
     "execution_count": 7,
     "metadata": {},
     "output_type": "execute_result"
    }
   ],
   "source": [
    "bn128.field_modulus % 4"
   ]
  },
  {
   "cell_type": "code",
   "execution_count": 28,
   "metadata": {},
   "outputs": [
    {
     "data": {
      "text/plain": [
       "5472060717959818805561601436314318772174077789324455915672259473661306552146"
      ]
     },
     "execution_count": 28,
     "metadata": {},
     "output_type": "execute_result"
    }
   ],
   "source": [
    "(bn128.field_modulus + 1) // 4"
   ]
  },
  {
   "cell_type": "code",
   "execution_count": 9,
   "metadata": {},
   "outputs": [
    {
     "data": {
      "text/plain": [
       "21888242871839275222246405745257275088548364400416034343698204186575808495617"
      ]
     },
     "execution_count": 9,
     "metadata": {},
     "output_type": "execute_result"
    }
   ],
   "source": [
    "bn128.curve_order"
   ]
  },
  {
   "cell_type": "code",
   "execution_count": 11,
   "metadata": {},
   "outputs": [
    {
     "ename": "OverflowError",
     "evalue": "can't convert negative int to unsigned",
     "output_type": "error",
     "traceback": [
      "\u001b[0;31m---------------------------------------------------------------------------\u001b[0m",
      "\u001b[0;31mOverflowError\u001b[0m                             Traceback (most recent call last)",
      "\u001b[1;32m/Users/onurerenarpaci/Desktop/KUSRP/cramer_shoup/test.ipynb Cell 14\u001b[0m in \u001b[0;36m<cell line: 1>\u001b[0;34m()\u001b[0m\n\u001b[0;32m----> <a href='vscode-notebook-cell:/Users/onurerenarpaci/Desktop/KUSRP/cramer_shoup/test.ipynb#X16sZmlsZQ%3D%3D?line=0'>1</a>\u001b[0m (\u001b[39m-\u001b[39;49m\u001b[39m1024\u001b[39;49m)\u001b[39m.\u001b[39;49mto_bytes(\u001b[39m32\u001b[39;49m, byteorder\u001b[39m=\u001b[39;49m\u001b[39m'\u001b[39;49m\u001b[39mbig\u001b[39;49m\u001b[39m'\u001b[39;49m)\n",
      "\u001b[0;31mOverflowError\u001b[0m: can't convert negative int to unsigned"
     ]
    }
   ],
   "source": [
    "(-1024).to_bytes(32, byteorder='big')"
   ]
  },
  {
   "cell_type": "code",
   "execution_count": 7,
   "metadata": {},
   "outputs": [
    {
     "data": {
      "text/plain": [
       "b'\\x01\\x8e\\xae)\\xb95\\xc5)\\xb3\\xc5P\\x8a}\\xb7A\\x8e3_\\x10^\\xa1\\x95(\\xb48\\x18\\xf3'"
      ]
     },
     "execution_count": 7,
     "metadata": {},
     "output_type": "execute_result"
    }
   ],
   "source": [
    "x = secrets.token_bytes(27)\n",
    "x"
   ]
  },
  {
   "cell_type": "code",
   "execution_count": 10,
   "metadata": {},
   "outputs": [
    {
     "data": {
      "text/plain": [
       "(640654580373707719519042747943061763503358300690071249367865587,\n",
       " 16186217524233123527567967460095238571870155745959373512669242668003756854683)"
      ]
     },
     "execution_count": 10,
     "metadata": {},
     "output_type": "execute_result"
    }
   ],
   "source": [
    "ec_point = cs.encode_x_to_ec_point(x, 5)\n",
    "ec_point"
   ]
  },
  {
   "cell_type": "code",
   "execution_count": 11,
   "metadata": {},
   "outputs": [
    {
     "data": {
      "text/plain": [
       "b'\\x01\\x8e\\xae)\\xb95\\xc5)\\xb3\\xc5P\\x8a}\\xb7A\\x8e3_\\x10^\\xa1\\x95(\\xb48\\x18\\xf3'"
      ]
     },
     "execution_count": 11,
     "metadata": {},
     "output_type": "execute_result"
    }
   ],
   "source": [
    "cs.decode_ec_point_to_x(ec_point, 5)"
   ]
  },
  {
   "cell_type": "code",
   "execution_count": 12,
   "metadata": {},
   "outputs": [
    {
     "data": {
      "text/plain": [
       "HexBytes('0x4b370e0da91498dda09b3047b43226cc02f9ac1ebf296f7d293958e506667618')"
      ]
     },
     "execution_count": 12,
     "metadata": {},
     "output_type": "execute_result"
    }
   ],
   "source": [
    "Web3.solidityKeccak(['bytes'], [x])"
   ]
  },
  {
   "cell_type": "code",
   "execution_count": 25,
   "metadata": {},
   "outputs": [
    {
     "data": {
      "text/plain": [
       "'6e8e418309f6d258f0db40013e03c90da6f51c2daed64e5b833ac1010102e8fd'"
      ]
     },
     "execution_count": 25,
     "metadata": {},
     "output_type": "execute_result"
    }
   ],
   "source": [
    "import hashlib\n",
    "\n",
    "# pad the message to 32 bytes\n",
    "x = x + b'\\x00' * (32 - len(x))\n",
    "\n",
    "hashlib.sha256(x).digest().hex()"
   ]
  },
  {
   "cell_type": "code",
   "execution_count": 23,
   "metadata": {},
   "outputs": [
    {
     "data": {
      "text/plain": [
       "'018eae29b935c529b3c5508a7db7418e335f105ea19528b43818f3'"
      ]
     },
     "execution_count": 23,
     "metadata": {},
     "output_type": "execute_result"
    }
   ],
   "source": [
    "x.hex()\n"
   ]
  }
 ],
 "metadata": {
  "kernelspec": {
   "display_name": "Python 3.9.15 ('delegate-LWMUJY8D')",
   "language": "python",
   "name": "python3"
  },
  "language_info": {
   "codemirror_mode": {
    "name": "ipython",
    "version": 3
   },
   "file_extension": ".py",
   "mimetype": "text/x-python",
   "name": "python",
   "nbconvert_exporter": "python",
   "pygments_lexer": "ipython3",
   "version": "3.9.15"
  },
  "orig_nbformat": 4,
  "vscode": {
   "interpreter": {
    "hash": "6ba3fa109e57979c9564df063a68ab223d9ee995edbd2f4d758ef91a92a3875d"
   }
  }
 },
 "nbformat": 4,
 "nbformat_minor": 2
}
