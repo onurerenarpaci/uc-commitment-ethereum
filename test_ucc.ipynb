{
 "cells": [
  {
   "cell_type": "code",
   "execution_count": 1,
   "metadata": {},
   "outputs": [],
   "source": [
    "import cramer_shoup as cs\n",
    "from web3 import Web3\n",
    "from solcx import compile_files\n",
    "from py_ecc import bn128\n",
    "import secrets"
   ]
  },
  {
   "cell_type": "code",
   "execution_count": 2,
   "metadata": {},
   "outputs": [],
   "source": [
    "private_key, public_key = cs.generate_keypair()"
   ]
  },
  {
   "cell_type": "code",
   "execution_count": 120,
   "metadata": {},
   "outputs": [
    {
     "data": {
      "text/plain": [
       "Version('0.8.6')"
      ]
     },
     "execution_count": 120,
     "metadata": {},
     "output_type": "execute_result"
    }
   ],
   "source": [
    "#if not run before then run once\n",
    "import solcx\n",
    "solcx.install_solc('0.8.6')"
   ]
  },
  {
   "cell_type": "code",
   "execution_count": 13,
   "metadata": {},
   "outputs": [],
   "source": [
    "w3 = Web3(Web3.HTTPProvider(\"http://localhost:8545\"))\n",
    "compiled_sol = compile_files([\"cramer_shoup.sol\"], output_values=['abi', 'bin'], solc_version=\"0.8.6\")['cramer_shoup.sol:CramerShoup']\n",
    "CramerShoup = w3.eth.contract(address='ADDRESS_OF_THE_CONTRACT', abi=compiled_sol['abi'])"
   ]
  },
  {
   "cell_type": "code",
   "execution_count": 18,
   "metadata": {},
   "outputs": [],
   "source": [
    "tx_hash = CramerShoup.functions.setPublicKey(\n",
    "    _pk = {\n",
    "        \"g1\" : cs.point_to_bytes(public_key['g1']),\n",
    "        \"g2\" : cs.point_to_bytes(public_key['g2']),\n",
    "        \"c\" : cs.point_to_bytes(public_key['c']),\n",
    "        \"d\" : cs.point_to_bytes(public_key['d']),\n",
    "        \"h\" : cs.point_to_bytes(public_key['h'])\n",
    "        }).transact({'from': w3.eth.accounts[0]})\n",
    "\n",
    "tx_receipt_set_public_key = w3.eth.waitForTransactionReceipt(tx_hash)"
   ]
  },
  {
   "cell_type": "code",
   "execution_count": 5,
   "metadata": {},
   "outputs": [],
   "source": [
    "b = 1 # commitment bit\n",
    "n = 28 # number of bytes in the random x value\n",
    "pad = 4 # number of bytes for padding"
   ]
  },
  {
   "cell_type": "code",
   "execution_count": 6,
   "metadata": {},
   "outputs": [],
   "source": [
    "x = secrets.token_bytes(n)\n",
    "y = cs.f(b, x)\n",
    "\n",
    "c_b = cs.encrypt(public_key, x, pad)\n",
    "c_1_b = cs.encrypt(public_key,  b'\\x00' * n, pad)\n",
    "r_b = c_b[-1]\n",
    "\n",
    "c = [c_b, c_1_b] if b == 0 else [c_1_b, c_b]"
   ]
  },
  {
   "cell_type": "code",
   "execution_count": 19,
   "metadata": {},
   "outputs": [],
   "source": [
    "tx_hash = CramerShoup.functions.commit(\n",
    "    _com = {\n",
    "        \"y\" : y,\n",
    "        \"ct0\" : {\n",
    "            \"u1\" : cs.point_to_bytes(c[0][0]),\n",
    "            \"u2\" : cs.point_to_bytes(c[0][1]),\n",
    "            \"e\" :  cs.point_to_bytes(c[0][2]),\n",
    "            \"v\" : cs.point_to_bytes(c[0][3])\n",
    "        },\n",
    "        \"ct1\" : {\n",
    "            \"u1\" : cs.point_to_bytes(c[1][0]),\n",
    "            \"u2\" : cs.point_to_bytes(c[1][1]),\n",
    "            \"e\" :  cs.point_to_bytes(c[1][2]),\n",
    "            \"v\" : cs.point_to_bytes(c[1][3])\n",
    "        }\n",
    "    }\n",
    ").transact({'from': w3.eth.accounts[0]})\n",
    "\n",
    "tx_receipt_commit = w3.eth.waitForTransactionReceipt(tx_hash)"
   ]
  },
  {
   "cell_type": "code",
   "execution_count": 20,
   "metadata": {},
   "outputs": [],
   "source": [
    "tx_hash = CramerShoup.functions.reveal(\n",
    "    b = b,\n",
    "    x = b'\\x00' * (32 - len(x)) + x,\n",
    "    k = \"0x\" + r_b.to_bytes(32, 'big').hex(),\n",
    "    pad = pad\n",
    ").transact({'from': w3.eth.accounts[0]})\n",
    "tx_receipt_reveal = w3.eth.waitForTransactionReceipt(tx_hash)"
   ]
  },
  {
   "cell_type": "code",
   "execution_count": 21,
   "metadata": {},
   "outputs": [
    {
     "data": {
      "text/plain": [
       "55732"
      ]
     },
     "execution_count": 21,
     "metadata": {},
     "output_type": "execute_result"
    }
   ],
   "source": [
    "tx_receipt_set_public_key.gasUsed"
   ]
  },
  {
   "cell_type": "code",
   "execution_count": 22,
   "metadata": {},
   "outputs": [
    {
     "data": {
      "text/plain": [
       "79924"
      ]
     },
     "execution_count": 22,
     "metadata": {},
     "output_type": "execute_result"
    }
   ],
   "source": [
    "tx_receipt_commit.gasUsed"
   ]
  },
  {
   "cell_type": "code",
   "execution_count": 23,
   "metadata": {},
   "outputs": [
    {
     "data": {
      "text/plain": [
       "129740"
      ]
     },
     "execution_count": 23,
     "metadata": {},
     "output_type": "execute_result"
    }
   ],
   "source": [
    "tx_receipt_reveal.gasUsed"
   ]
  }
 ],
 "metadata": {
  "kernelspec": {
   "display_name": "Python 3.9.15 ('delegate-LWMUJY8D')",
   "language": "python",
   "name": "python3"
  },
  "language_info": {
   "codemirror_mode": {
    "name": "ipython",
    "version": 3
   },
   "file_extension": ".py",
   "mimetype": "text/x-python",
   "name": "python",
   "nbconvert_exporter": "python",
   "pygments_lexer": "ipython3",
   "version": "3.9.15"
  },
  "orig_nbformat": 4,
  "vscode": {
   "interpreter": {
    "hash": "6ba3fa109e57979c9564df063a68ab223d9ee995edbd2f4d758ef91a92a3875d"
   }
  }
 },
 "nbformat": 4,
 "nbformat_minor": 2
}
